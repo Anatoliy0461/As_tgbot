{
 "cells": [
  {
   "cell_type": "code",
   "execution_count": null,
   "id": "7e9bf527-b73e-4dec-b2af-1eebd4a995e3",
   "metadata": {},
   "outputs": [],
   "source": [
    "from aiogram import Bot, Router\n",
    "from aiogram.filters import Command\n",
    "\n",
    "user_private_router = Router()\n",
    "\n",
    "@user_private_router.callback_query(F.data == \"about_me\")\n",
    "async def about_me_callback(callback: types.CallbackQuery):\n",
    "    await callback.message.edit_text('Рад, что ты спросил\\n'\n",
    "                                     'Я на самом деле редко говорю о себе, но мама говорит, что я классный')\n",
    "\n",
    "@user_private_router.callback_query(F.data == 'name')\n",
    "async def name_callback(callback: types.CallbackQuery):\n",
    "    await callback.message.answer(f'Меня зовут {(await bot.get_me()).full_name}. '\n",
    "                         f'А как тебя зовут? Хотя, можешь не отвечать, я не смогу прочитать')\n",
    "\n",
    "@user_private_router.callback_query(F.data == 'portfolio')\n",
    "async def portfolio_callback(callback: types.CallbackQuery):\n",
    "    await callback.message.answer('Я пока что только учусь, и ещё не успел создать ботов, но скоро они здесь будут')\n",
    "\n",
    "@user_private_router.callback_query(F.data == 'about_you')\n",
    "async def about_you_callback(callback: types.CallbackQuery):\n",
    "    await callback.message.answer(f'А тебя зовут {callback.from_user.full_name}!')"
   ]
  }
 ],
 "metadata": {
  "kernelspec": {
   "display_name": "Python 3 (ipykernel)",
   "language": "python",
   "name": "python3"
  },
  "language_info": {
   "codemirror_mode": {
    "name": "ipython",
    "version": 3
   },
   "file_extension": ".py",
   "mimetype": "text/x-python",
   "name": "python",
   "nbconvert_exporter": "python",
   "pygments_lexer": "ipython3",
   "version": "3.11.7"
  }
 },
 "nbformat": 4,
 "nbformat_minor": 5
}
