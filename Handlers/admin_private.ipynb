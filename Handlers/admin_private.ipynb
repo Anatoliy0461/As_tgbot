{
 "cells": [
  {
   "cell_type": "code",
   "execution_count": 1,
   "id": "446cb309-0dd9-4d98-b7ea-64bd7c0ceccc",
   "metadata": {},
   "outputs": [
    {
     "name": "stdout",
     "output_type": "stream",
     "text": [
      "Writing admin_private.py\n"
     ]
    }
   ],
   "source": [
    "%%writefile admin_private.py\n",
    "admin_keyboard = [\n",
    "    [\n",
    "        types.InlineKeyboardButton(text='Рассылка', callback_data='admin_newsletter'),\n",
    "        types.InlineKeyboardButton(text='Статистика', callback_data='admin_statistic')\n",
    "    ]\n",
    "]\n",
    "admin_keyboard = types.InlineKeyboardMarkup(inline_keyboard=admin_keyboard)\n",
    "\n",
    "\n",
    "@dp.message(Command('admin'), IsAdmin())\n",
    "async def admin_command(message: types.Message) -> None:\n",
    "    await message.answer('Добро пожаловать в Админ-панель!',\n",
    "                         reply_markup=admin_keyboard)"
   ]
  },
  {
   "cell_type": "code",
   "execution_count": null,
   "id": "3234e2ef",
   "metadata": {},
   "outputs": [],
   "source": []
  }
 ],
 "metadata": {
  "kernelspec": {
   "display_name": "Python 3 (ipykernel)",
   "language": "python",
   "name": "python3"
  },
  "language_info": {
   "codemirror_mode": {
    "name": "ipython",
    "version": 3
   },
   "file_extension": ".py",
   "mimetype": "text/x-python",
   "name": "python",
   "nbconvert_exporter": "python",
   "pygments_lexer": "ipython3",
   "version": "3.11.7"
  }
 },
 "nbformat": 4,
 "nbformat_minor": 5
}
