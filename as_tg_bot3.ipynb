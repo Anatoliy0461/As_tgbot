{
 "cells": [
  {
   "cell_type": "code",
   "execution_count": 3,
   "id": "f89c4b24-b27c-45d2-bad3-65b94e475dfa",
   "metadata": {},
   "outputs": [
    {
     "ename": "ImportError",
     "evalue": "cannot import name 'user_private_router' from 'Handlers.user_private' (C:\\Users\\afkol\\As_tg_bot\\Handlers\\user_private.py)",
     "output_type": "error",
     "traceback": [
      "\u001b[1;31m---------------------------------------------------------------------------\u001b[0m",
      "\u001b[1;31mImportError\u001b[0m                               Traceback (most recent call last)",
      "Cell \u001b[1;32mIn[3], line 10\u001b[0m\n\u001b[0;32m      7\u001b[0m \u001b[38;5;28;01mfrom\u001b[39;00m \u001b[38;5;21;01mdotenv\u001b[39;00m \u001b[38;5;28;01mimport\u001b[39;00m find_dotenv, load_dotenv \n\u001b[0;32m      8\u001b[0m load_dotenv(find_dotenv())                        \u001b[38;5;66;03m# Находим .env\u001b[39;00m\n\u001b[1;32m---> 10\u001b[0m \u001b[38;5;28;01mfrom\u001b[39;00m \u001b[38;5;21;01mHandlers\u001b[39;00m\u001b[38;5;21;01m.\u001b[39;00m\u001b[38;5;21;01muser_private\u001b[39;00m \u001b[38;5;28;01mimport\u001b[39;00m user_private_router\n\u001b[0;32m     12\u001b[0m dp \u001b[38;5;241m=\u001b[39m Dispatcher()\n\u001b[0;32m     13\u001b[0m dp\u001b[38;5;241m.\u001b[39minclude_router(user_private_router)\n",
      "\u001b[1;31mImportError\u001b[0m: cannot import name 'user_private_router' from 'Handlers.user_private' (C:\\Users\\afkol\\As_tg_bot\\Handlers\\user_private.py)"
     ]
    }
   ],
   "source": [
    "import asyncio\n",
    "import nest_asyncio\n",
    "from aiogram import Bot, Dispatcher, types, F\n",
    "from aiogram.filters import Command\n",
    "import os\n",
    "\n",
    "from dotenv import find_dotenv, load_dotenv \n",
    "load_dotenv(find_dotenv())                        # Находим .env\n",
    "\n",
    "from Handlers.user_private import user_private_router\n",
    "\n",
    "dp = Dispatcher()\n",
    "dp.include_router(user_private_router)\n",
    "nest_asyncio.apply()\n",
    "bot = Bot(token = os.getenv('TOKEN'))             # Подставляем значение из .env\n",
    "\n",
    "@dp.message(Command('start'))\n",
    "async def start_command(message: types.Message) -> None:\n",
    "    kb = [\n",
    "        [types.InlineKeyboardButton(text=\"Обо мне\", callback_data='about_me')],\n",
    "\n",
    "        [\n",
    "            types.InlineKeyboardButton(text=\"Имя\", callback_data='name'),\n",
    "            types.InlineKeyboardButton(text=\"Портфолио\", url='https://github.com/Anatoliy0461/Malon')\n",
    "        ],\n",
    "        [\n",
    "            types.InlineKeyboardButton(text=\"О тебе\", callback_data='about_you')\n",
    "        ]\n",
    "    ]\n",
    "    keyboard = types.InlineKeyboardMarkup(inline_keyboard=kb, resize_keyboard=True)\n",
    "    await message.answer('Привет! это мой бот-визитка', reply_markup=keyboard)\n",
    "\n",
    "\n",
    "async def main() -> None:\n",
    "     await dp.start_polling(bot)\n",
    "\n",
    "\n",
    "if __name__ == \"__main__\":\n",
    "    asyncio.run(main())"
   ]
  },
  {
   "cell_type": "code",
   "execution_count": null,
   "id": "8a577553-95ec-4b1f-a818-a2da3cb0ecc5",
   "metadata": {},
   "outputs": [],
   "source": []
  }
 ],
 "metadata": {
  "kernelspec": {
   "display_name": "Python 3 (ipykernel)",
   "language": "python",
   "name": "python3"
  },
  "language_info": {
   "codemirror_mode": {
    "name": "ipython",
    "version": 3
   },
   "file_extension": ".py",
   "mimetype": "text/x-python",
   "name": "python",
   "nbconvert_exporter": "python",
   "pygments_lexer": "ipython3",
   "version": "3.11.7"
  }
 },
 "nbformat": 4,
 "nbformat_minor": 5
}
