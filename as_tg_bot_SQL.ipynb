{
 "cells": [
  {
   "cell_type": "code",
   "execution_count": null,
   "id": "98e3d282-b115-4110-87b1-78ad848ae054",
   "metadata": {},
   "outputs": [],
   "source": [
    "# Отправляем фото, file_id\n",
    "\n",
    "import asyncio\n",
    "import nest_asyncio\n",
    "from aiogram import Bot, Dispatcher, types, F\n",
    "from aiogram.filters import Command\n",
    "from dotenv import find_dotenv, load_dotenv        \n",
    "import os\n",
    "from aiogram.types import FSInputFile\n",
    "load_dotenv(find_dotenv())                        \n",
    "\n",
    "dp = Dispatcher()\n",
    "nest_asyncio.apply()\n",
    "bot = Bot(token = os.getenv('TOKEN'))             \n",
    "\n",
    "@dp.message(F.text == 'Ода голосу')\n",
    "async def oda_handler(message: types.Message):\n",
    "    photo = FSInputFile('Изображение WhatsApp 2024-04-17 в 09.38.47_daae3648.jpg')\n",
    "    message_data = await message.answer_photo(photo)   # Отправляем photo по запросу 'Ода голосу'\n",
    "    print(\"file_id:\", message_data.photo[-1].file_id)              # Получаем file_id отправленного photo\n",
    "\n",
    "async def main() -> None:\n",
    "     await dp.start_polling(bot)\n",
    "\n",
    "\n",
    "if __name__ == \"__main__\":\n",
    "    asyncio.run(main())"
   ]
  },
  {
   "cell_type": "markdown",
   "id": "36665a4d-6e40-4e74-8ce0-35f5126e8969",
   "metadata": {},
   "source": [
    "## SQL"
   ]
  },
  {
   "cell_type": "code",
   "execution_count": null,
   "id": "4c029362-eec2-4b19-8fef-efad80b3e72c",
   "metadata": {},
   "outputs": [],
   "source": [
    "import sqlite3\n",
    "\n",
    "# Create a connection to the SQLite database file named 'db'\n",
    "conn = sqlite3.connect('db')\n",
    "conn.close()"
   ]
  },
  {
   "cell_type": "code",
   "execution_count": 2,
   "id": "017ff931-d5b6-472f-8c9e-5c5948a6bf59",
   "metadata": {},
   "outputs": [
    {
     "name": "stdout",
     "output_type": "stream",
     "text": [
      "Collecting aiosqlite\n",
      "  Using cached aiosqlite-0.20.0-py3-none-any.whl.metadata (4.3 kB)\n",
      "Requirement already satisfied: typing_extensions>=4.0 in c:\\users\\afkol\\anaconda3\\envs\\jupyterlab\\lib\\site-packages (from aiosqlite) (4.9.0)\n",
      "Using cached aiosqlite-0.20.0-py3-none-any.whl (15 kB)\n",
      "Installing collected packages: aiosqlite\n",
      "Successfully installed aiosqlite-0.20.0\n"
     ]
    }
   ],
   "source": [
    "!pip install aiosqlite"
   ]
  },
  {
   "cell_type": "code",
   "execution_count": 4,
   "id": "828ce166-5923-4976-bae8-d7a963ce4c55",
   "metadata": {},
   "outputs": [],
   "source": [
    "import nest_asyncio\n",
    "import aiosqlite\n",
    "\n",
    "nest_asyncio.apply()\n",
    "\n",
    "async def create_users_table():\n",
    "    connect = await aiosqlite.connect('db')        #Соединяемся с базой db3, если нет - создаем\n",
    "    cursor = await connect.cursor()\n",
    "    await cursor.execute('''                         \n",
    "        CREATE TABLE IF NOT EXISTS users (          \n",
    "            user_id INTEGER PRIMARY KEY,\n",
    "            full_name TEXT,\n",
    "            username TEXT\n",
    "        )\n",
    "    ''')\n",
    "    await connect.commit()\n",
    "    await cursor.close()\n",
    "    await connect.close()\n",
    "\n",
    "async def add_user(user_id, full_name, username):\n",
    "    connect = await aiosqlite.connect('db')           #Соединяемся с db3, если нет - создаем\n",
    "    cursor = await connect.cursor()\n",
    "    await cursor.execute('INSERT INTO users (user_id, full_name, username) VALUES (?, ?, ?)',\n",
    "                         (user_id, full_name, username))\n",
    "    await connect.commit()\n",
    "    await cursor.close()\n",
    "    await connect.close()\n",
    "\n",
    "async def main():\n",
    "    await create_users_table()\n",
    "    await add_user(1588, 'Иванов744', '7Кол4я')\n",
    "\n",
    "# Запуск асинхронной функции main\n",
    "import asyncio\n",
    "asyncio.run(main())"
   ]
  },
  {
   "cell_type": "code",
   "execution_count": 1,
   "id": "73a23d22-e7c9-4132-9601-2bf6b97bf3e7",
   "metadata": {},
   "outputs": [
    {
     "name": "stdout",
     "output_type": "stream",
     "text": [
      "[(1, '399456313', 'Анатолий Колесников', None), (2, '423848283', 'Nailya Fazylova', None), (3, '399456313', 'Анатолий Колесников', None), (4, '399456313', 'Анатолий Колесников', None), (5, '399456313', 'Анатолий Колесников', None)]\n"
     ]
    }
   ],
   "source": [
    "import sqlite3\n",
    "\n",
    "# Создание подключения к базе данных\n",
    "conn = sqlite3.connect('db1')\n",
    "\n",
    "# Создание курсора для выполнения SQL-запросов\n",
    "cursor = conn.cursor()\n",
    "\n",
    "# Пример выполнения SQL-запроса (в данном случае выбор всех записей из таблицы)\n",
    "cursor.execute('SELECT * FROM users')\n",
    "\n",
    "# Получение результатов запроса\n",
    "results = cursor.fetchall()\n",
    "\n",
    "# Закрытие подключения\n",
    "conn.close()\n",
    "print(results)"
   ]
  },
  {
   "cell_type": "code",
   "execution_count": null,
   "id": "a77167d1-f5d8-4d1d-9cab-7ab8546168c9",
   "metadata": {},
   "outputs": [],
   "source": []
  }
 ],
 "metadata": {
  "kernelspec": {
   "display_name": "Python 3 (ipykernel)",
   "language": "python",
   "name": "python3"
  },
  "language_info": {
   "codemirror_mode": {
    "name": "ipython",
    "version": 3
   },
   "file_extension": ".py",
   "mimetype": "text/x-python",
   "name": "python",
   "nbconvert_exporter": "python",
   "pygments_lexer": "ipython3",
   "version": "3.11.7"
  }
 },
 "nbformat": 4,
 "nbformat_minor": 5
}
